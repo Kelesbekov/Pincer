{
 "cells": [
  {
   "cell_type": "code",
   "execution_count": null,
   "id": "a3158ec3",
   "metadata": {
    "scrolled": false
   },
   "outputs": [],
   "source": [
    "import os\n",
    "import csv\n",
    "from collections import defaultdict\n",
    "import matplotlib.pyplot as plt\n",
    "\n",
    "# Get the current working directory\n",
    "current_directory = os.getcwd()\n",
    "\n",
    "print(\"Current working directory:\", current_directory)\n",
    "\n",
    "all_items = os.listdir(current_directory)\n",
    "#print(all_items)\n",
    "prefix_to_match = 'Participant-207'\n",
    "matching_folders = [item for item in all_items if \\\n",
    "                    item.startswith(prefix_to_match)]\n",
    "#print(matching_folders)\n",
    "\n",
    "#print(matching_folders)\n",
    "\n",
    "#print(len(matching_folders))\n",
    "columns_to_keep = ['Pinch Aperture']\n",
    "for file in sorted(matching_folders):\n",
    "\n",
    "    data = []\n",
    "    file_path = os.path.join(current_directory, file)\n",
    "    print(file_path)\n",
    "    with open(file_path, 'r') as file:\n",
    "        reader = csv.DictReader(file)\n",
    "        data = [row[col] for col in columns_to_keep for row in reader]\n",
    "\n",
    "        \n",
    "        for row in reader:\n",
    "            data.append(row)\n",
    "        #print(len(data))\n",
    "        #print(data[0])\n",
    "        plt.figure(figsize=(30,6))\n",
    "        data = [float(item)*1000 for item in data]\n",
    "        plt.plot(data)\n",
    "        plt.ylim(0, 100)"
   ]
  },
  {
   "cell_type": "markdown",
   "id": "75430807",
   "metadata": {},
   "source": [
    "7, 9, 35, 36\n",
    "\n",
    "\n",
    "Redo:\n",
    "\n",
    "* 2 Vanna: first round (3-4) he couldn't do shit cuz he didn't know how to use ETHD\n",
    "* \n",
    "* 7: Physical redo (noise)\n",
    "* 9: Physical redo (noise)\n",
    "* 14: Physical redo (uncalibrated)\n",
    "* 25: Physical redo\n",
    "* 28: everything\n",
    "* 31: noisy\n",
    "* 35: done (7-9)"
   ]
  },
  {
   "cell_type": "code",
   "execution_count": null,
   "id": "96db422c",
   "metadata": {},
   "outputs": [],
   "source": []
  }
 ],
 "metadata": {
  "kernelspec": {
   "display_name": "Python 3 (ipykernel)",
   "language": "python",
   "name": "python3"
  },
  "language_info": {
   "codemirror_mode": {
    "name": "ipython",
    "version": 3
   },
   "file_extension": ".py",
   "mimetype": "text/x-python",
   "name": "python",
   "nbconvert_exporter": "python",
   "pygments_lexer": "ipython3",
   "version": "3.10.6"
  }
 },
 "nbformat": 4,
 "nbformat_minor": 5
}
