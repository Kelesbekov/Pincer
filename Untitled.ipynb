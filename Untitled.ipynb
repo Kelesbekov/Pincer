{
 "cells": [
  {
   "cell_type": "code",
   "execution_count": 18,
   "id": "dded1a8b",
   "metadata": {},
   "outputs": [
    {
     "name": "stdout",
     "output_type": "stream",
     "text": [
      "Current working directory: C:\\Users\\akira\\Desktop\\Pincer\n",
      "['P002', 'P003', 'P004', 'P005', 'P006', 'P007', 'P008', 'P009', 'P011', 'P012', 'P014', 'P015', 'P021', 'P024', 'P025', 'P028', 'P031', 'P033', 'P036']\n",
      "19\n",
      "C:/Users/akira/Desktop/Pincer/P007\\Participant-07__take0001__2024-01-11__15-25-19.csv\n",
      "C:/Users/akira/Desktop/Pincer/P007\\Participant-07__take0002__2024-01-11__15-26-18.csv\n",
      "C:/Users/akira/Desktop/Pincer/P007\\Participant-07__take0003__2024-01-11__15-37-15.csv\n",
      "C:/Users/akira/Desktop/Pincer/P007\\Participant-07__take0004__2024-01-11__15-38-16.csv\n",
      "C:/Users/akira/Desktop/Pincer/P007\\Participant-07__take0005__2024-01-11__15-43-01.csv\n",
      "C:/Users/akira/Desktop/Pincer/P007\\Participant-07__take0006__2024-01-11__15-43-47.csv\n",
      "C:/Users/akira/Desktop/Pincer/P007\\Participant-07__take0007__2024-01-11__15-48-13.csv\n",
      "C:/Users/akira/Desktop/Pincer/P007\\Participant-07__take0008__2024-01-11__15-49-02.csv\n"
     ]
    }
   ],
   "source": [
    "import os\n",
    "import csv\n",
    "from collections import defaultdict\n",
    "import matplotlib.pyplot as plt\n",
    "\n",
    "# Get the current working directory\n",
    "current_directory = os.getcwd()\n",
    "\n",
    "print(\"Current working directory:\", current_directory)\n",
    "\n",
    "all_items = os.listdir(current_directory)\n",
    "\n",
    "prefix_to_match = 'P0'\n",
    "matching_folders = [item for item in all_items if \\\n",
    "                    os.path.isdir(os.path.join(current_directory, item)) \\\n",
    "                    and item.startswith(prefix_to_match)]\n",
    "\n",
    "\n",
    "print(matching_folders)\n",
    "\n",
    "print(len(matching_folders))\n",
    "\n",
    "for item in matching_folders:\n",
    "    folder_path  = os.path.join(current_directory, item)\n",
    "    #print(folder_path)\n",
    "    \n",
    "    \n",
    "\n",
    "folder_path = 'C:/Users/akira/Desktop/Pincer/P007'\n",
    "\n",
    "\n",
    "columns_to_keep = ['Pinch Aperture']\n",
    "\n",
    "for file in os.listdir(folder_path):\n",
    "    data = []\n",
    "    file_path = os.path.join(folder_path, file)\n",
    "    print(file_path)\n",
    "    with open(file_path, 'r') as file:\n",
    "        reader = csv.DictReader(file, fieldnames=columns_to_keep)\n",
    "        next(reader)\n",
    "        for row in reader:\n",
    "            data.append(row)\n",
    "        plt.figure(figsize=(30,6))\n",
    "        data = [float(item)*1000 for item in data]\n",
    "        plt.plot(d\n",
    "    "
   ]
  },
  {
   "cell_type": "code",
   "execution_count": null,
   "id": "7dc7fcb8",
   "metadata": {},
   "outputs": [],
   "source": [
    "import csv\n",
    "from collections import defaultdict\n",
    "\n",
    "# Replace 'your_file.csv' with the actual path to your CSV file\n",
    "file_path = 'your_file.csv'\n",
    "\n",
    "# Replace 'split_column' with the actual column name you want to use for splitting\n",
    "split_column = 'column_to_split'\n",
    "\n",
    "# Create a dictionary to store data pieces based on the values of the split column\n",
    "split_data = defaultdict(list)\n",
    "\n",
    "with open(file_path, 'r') as file:\n",
    "    reader = csv.DictReader(file)\n",
    "    \n",
    "    for row in reader:\n",
    "        # Extract the value from the specified split column\n",
    "        split_value = row[split_column]\n",
    "        \n",
    "        # Append the entire row to the corresponding split_data list\n",
    "        split_data[split_value].append(row)\n",
    "\n",
    "# Now 'split_data' is a dictionary where keys are unique values from the split column,\n",
    "# and values are lists of dictionaries containing rows with that specific value.\n",
    "# You can access the split data as needed\n",
    "for key, value in split_data.items():\n",
    "    print(f\"Data for {split_column} = {key}:\")\n",
    "    for row in value:\n",
    "        print(row)\n",
    "    print()\n"
   ]
  }
 ],
 "metadata": {
  "kernelspec": {
   "display_name": "Python 3 (ipykernel)",
   "language": "python",
   "name": "python3"
  },
  "language_info": {
   "codemirror_mode": {
    "name": "ipython",
    "version": 3
   },
   "file_extension": ".py",
   "mimetype": "text/x-python",
   "name": "python",
   "nbconvert_exporter": "python",
   "pygments_lexer": "ipython3",
   "version": "3.10.6"
  }
 },
 "nbformat": 4,
 "nbformat_minor": 5
}
